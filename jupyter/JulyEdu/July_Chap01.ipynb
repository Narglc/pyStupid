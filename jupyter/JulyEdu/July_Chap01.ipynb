{
 "cells": [
  {
   "cell_type": "code",
   "execution_count": 4,
   "metadata": {},
   "outputs": [
    {
     "name": "stdout",
     "output_type": "stream",
     "text": [
      "g\n"
     ]
    }
   ],
   "source": [
    "s='abcdefg'\n",
    "print s[-1]"
   ]
  },
  {
   "cell_type": "code",
   "execution_count": 5,
   "metadata": {},
   "outputs": [
    {
     "name": "stdout",
     "output_type": "stream",
     "text": [
      "[[1, 100, 3], [1, 100, 3], [1, 100, 3]]\n"
     ]
    }
   ],
   "source": [
    "a=[[1,2,3]]*3     #二三行仅仅只是引用了第一行的[1,2,3]\n",
    "a[1][1]=100\n",
    "print(a)"
   ]
  },
  {
   "cell_type": "code",
   "execution_count": 6,
   "metadata": {},
   "outputs": [
    {
     "name": "stdout",
     "output_type": "stream",
     "text": [
      "[[1, 2, 3], [1, 100, 3], [1, 2, 3]]\n"
     ]
    }
   ],
   "source": [
    "a=[[1,2,3] for i in range(3)]\n",
    "a[1][1]=100\n",
    "print(a)"
   ]
  },
  {
   "cell_type": "code",
   "execution_count": 8,
   "metadata": {},
   "outputs": [
    {
     "name": "stdout",
     "output_type": "stream",
     "text": [
      "0\n",
      "1\n",
      "2\n",
      "3\n",
      "4\n",
      "5\n",
      "6\n",
      "7\n",
      "8\n",
      "9\n"
     ]
    }
   ],
   "source": [
    "x=range(10)\n",
    "for i in x:\n",
    "    print(i)"
   ]
  },
  {
   "cell_type": "code",
   "execution_count": 14,
   "metadata": {},
   "outputs": [
    {
     "name": "stdout",
     "output_type": "stream",
     "text": [
      "1\n",
      "1\n",
      "2\n",
      "3\n",
      "5\n",
      "8\n",
      "13\n",
      "21\n",
      "34\n",
      "55\n"
     ]
    }
   ],
   "source": [
    "def fib(limit):\n",
    "    n,a,b=0,0,1\n",
    "    while n<limit:\n",
    "        yield b\n",
    "        a,b=b,a+b\n",
    "        n+=1\n",
    "    #return 'done'\n",
    "\n",
    "for i in fib(10):\n",
    "    print(i)"
   ]
  },
  {
   "cell_type": "code",
   "execution_count": 15,
   "metadata": {},
   "outputs": [
    {
     "name": "stdout",
     "output_type": "stream",
     "text": [
      "100\n",
      "hello:100\n",
      "\n",
      "148578376\n",
      "148578376\n",
      "hey:100\n"
     ]
    }
   ],
   "source": [
    "class MyClass:                    #类后面可以加上继承的基类，默认所有的类都继承自Object类，可以不写\n",
    "    def __init__(self,val):        #初始化函数，而非构造函数    \n",
    "        self.val=val\n",
    "    def display(self,s):\n",
    "        print('%s:%d' %(s,self.val))\n",
    "m=MyClass(100)\n",
    "print(m.val)\n",
    "m.display('hello')\n",
    "print('')\n",
    "\n",
    "m2=m\n",
    "print(id(m))\n",
    "print(id(m2))\n",
    "\n",
    "fn=m.display\n",
    "fn('hey')\n"
   ]
  },
  {
   "cell_type": "code",
   "execution_count": 18,
   "metadata": {},
   "outputs": [
    {
     "name": "stdout",
     "output_type": "stream",
     "text": [
      "try...\n",
      "('ZeroDivisionError:', ZeroDivisionError('integer division or modulo by zero',))\n",
      "None\n",
      "finally...\n"
     ]
    },
    {
     "name": "stderr",
     "output_type": "stream",
     "text": [
      "Traceback (most recent call last):\n",
      "  File \"<ipython-input-18-d0522b03d431>\", line 5, in <module>\n",
      "    r = 10 / 0\n",
      "ZeroDivisionError: integer division or modulo by zero\n"
     ]
    }
   ],
   "source": [
    "import traceback\n",
    "\n",
    "try:\n",
    "    print('try...')\n",
    "    r = 10 / 0\n",
    "except ZeroDivisionError, e:\n",
    "    print('ZeroDivisionError:', e)\n",
    "    print(traceback.print_exc())\n",
    "finally:\n",
    "    print('finally...')"
   ]
  },
  {
   "cell_type": "code",
   "execution_count": 20,
   "metadata": {},
   "outputs": [
    {
     "name": "stdout",
     "output_type": "stream",
     "text": [
      "('\\xff', '\\xd8', 268493055, 1179207242, 16843008, 1610637312, 3690921984L, 134234880, 1542, 1543)\n",
      "图片大小：268493055\n",
      "实际图像偏移量：16843008\n",
      "header字节数：1610637312\n",
      "宽度：3690921984\n",
      "高度：134234880\n",
      "颜色数：1543\n"
     ]
    }
   ],
   "source": [
    "import struct\n",
    "\n",
    "with open('beauty.jpg', 'rb') as f:\n",
    "    header = struct.unpack('<2c6I2H', f.read(30))\n",
    "    print(header)\n",
    "    print('图片大小：%d' % header[2])\n",
    "    print('实际图像偏移量：%d' % header[4])\n",
    "    print('header字节数：%d' % header[5])\n",
    "    print('宽度：%d' % header[6])\n",
    "    print('高度：%d' % header[7])\n",
    "    print('颜色数：%d' % header[9])"
   ]
  },
  {
   "cell_type": "code",
   "execution_count": 24,
   "metadata": {},
   "outputs": [
    {
     "data": {
      "image/png": "[encoded data removed]",
      "text/plain": [
       "<matplotlib.figure.Figure at 0x92c5ba8>"
      ]
     },
     "metadata": {},
     "output_type": "display_data"
    }
   ],
   "source": [
    "import numpy as np\n",
    "import matplotlib.pyplot as plt\n",
    "\n",
    "# 基本配置\n",
    "plt.figure(figsize = (10, 10), dpi = 80)\n",
    "plt.xlim(-4.0, 4.0) # 坐标上下限\n",
    "plt.ylim(-1.0, 1.0)\n",
    "'''\n",
    "plt.xticks(np.linspace(-4, 4, 9, endpoint = True))\n",
    "plt.yticks(np.linspace(-1, 1, 5, endpoint = True))\n",
    "'''\n",
    "# 更直观的记号\n",
    "plt.xticks([-np.pi, -np.pi/2, 0, np.pi/2, np.pi], [r'$-\\pi$', r'$-\\pi/2$', r'$0$', r'$+\\pi/2$', r'$+\\pi$'])\n",
    "plt.yticks([-1, 0, +1], [r'$-1$', r'$0$', r'$+1$'])\n",
    "\n",
    "# 画曲线\n",
    "X = np.linspace(-np.pi, np.pi, 256,endpoint = True)\n",
    "Cos,Sin = np.cos(X), np.sin(X)\n",
    "plt.plot(X, Cos, color = 'blue', linewidth = 1.0, linestyle = '-', label = 'cos') # label添加图例\n",
    "plt.plot(X, Sin, color = 'green', linewidth = 1.0, linestyle = '-', label = 'sin')\n",
    "plt.legend(loc='upper left') # 图例位置左上角\n",
    "\n",
    "# 移动坐标\n",
    "ax = plt.gca()\n",
    "ax.spines['top'].set_color('none')\n",
    "ax.spines['right'].set_color('none')\n",
    "ax.xaxis.set_ticks_position('bottom')\n",
    "ax.spines['bottom'].set_position(('data',0))\n",
    "ax.yaxis.set_ticks_position('left')\n",
    "ax.spines['left'].set_position(('data',0))\n",
    "\n",
    "# 给特殊点加注释\n",
    "t = 2*np.pi/3\n",
    "plt.plot([t, t],[0, np.cos(t)], color = 'blue', linewidth = 2.5, linestyle = '--')\n",
    "plt.scatter([t, ],[np.cos(t),], 50, color ='red')\n",
    "plt.annotate(r'$\\cos(\\frac{2\\pi}{3})=-\\frac{1}{2}$',\n",
    "            xy = (t, np.cos(t)), xycoords = 'data',\n",
    "            xytext = (-90, -50), textcoords = 'offset points', fontsize = 16,\n",
    "            arrowprops = {'arrowstyle':'->', 'connectionstyle':'arc3,rad=.2'})\n",
    "plt.plot([t,t],[0,np.sin(t)], color ='red', linewidth=2.5, linestyle=\"--\")\n",
    "plt.scatter([t,],[np.sin(t),], 50, color ='red')\n",
    "plt.annotate(r'$\\sin(\\frac{2\\pi}{3})=\\frac{\\sqrt{3}}{2}$',\n",
    "            xy = (t, np.sin(t)), xycoords = 'data',\n",
    "            xytext = (+10, +30), textcoords = 'offset points', fontsize = 16,\n",
    "            arrowprops = {'arrowstyle':'->', 'connectionstyle':'arc3,rad=.2'})\n",
    "\n",
    "# 显示图片\n",
    "plt.show()\n"
   ]
  },
  {
   "cell_type": "markdown",
   "metadata": {},
   "source": [
    "## 股票案例"
   ]
  },
  {
   "cell_type": "code",
   "execution_count": 36,
   "metadata": {},
   "outputs": [],
   "source": [
    "import matplotlib.pyplot as plt\n",
    "import numpy as np\n",
    "import pandas as pd\n",
    "import tushare as ts\n",
    "\n",
    "'''\n",
    "#获取数据\n",
    "s_pf='600000'\n",
    "s_gd='601818'\n",
    "sdate='2016-01-01'\n",
    "edate='2016-12-31'\n",
    "\n",
    "df_pf=ts.get_h_data(s_pf,start=sdate,end=edate).sort_index(axis=0,ascending=True)\n",
    "df_gd=ts.get_h_data(s_gd,start=sdate,end=edate).sort_index(axis=0,ascending=True)\n",
    "\n",
    "df = pd.concat([df_pf.close,df_gd.close],axis=1,keys=['pf_close','gd_close'])\n",
    "\n",
    "#填充数据\n",
    "df.ffill(axis=0,inplace=True)   \n",
    "df.to_csv('pf_gd.csv')\n",
    "'''\n",
    "\n",
    "#对应csv的读取\n",
    "df=pd.read_csv('pf_gd.csv')\n",
    "\n",
    "'''\n",
    "corr=df.corr(method='pearson',min_periods=1)\n",
    "print(corr)\n",
    "\n",
    "df.plot(figsize=(20,12))\n",
    "plt.savefig('pf_gd.jpg')\n",
    "plt.close()\n",
    "'''\n",
    "\n",
    "\n",
    "df['pf_one']=df.pf_close/float(df.pf_close[0])*100\n",
    "df['gd_one']=df.gd_close/float(df.gd_close[0])*100\n",
    "df.pf_one.plot(figsize=(20,12))\n",
    "df.gd_one.plot(figsize=(20,12))\n",
    "plt.savefig('pf_gd_one.jpg')\n",
    "plt.close()"
   ]
  },
  {
   "cell_type": "code",
   "execution_count": 29,
   "metadata": {
    "collapsed": true
   },
   "outputs": [],
   "source": []
  }
 ],
 "metadata": {
  "kernelspec": {
   "display_name": "Python 2",
   "language": "python",
   "name": "python2"
  },
  "language_info": {
   "codemirror_mode": {
    "name": "ipython",
    "version": 2
   },
   "file_extension": ".py",
   "mimetype": "text/x-python",
   "name": "python",
   "nbconvert_exporter": "python",
   "pygments_lexer": "ipython2",
   "version": "2.7.13"
  }
 },
 "nbformat": 4,
 "nbformat_minor": 2
}
