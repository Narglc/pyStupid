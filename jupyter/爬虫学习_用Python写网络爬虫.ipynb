{
 "cells": [
  {
   "cell_type": "markdown",
   "metadata": {},
   "source": [
    "### 爬虫Download 函数"
   ]
  },
  {
   "cell_type": "code",
   "execution_count": 4,
   "metadata": {},
   "outputs": [
    {
     "name": "stdout",
     "output_type": "stream",
     "text": [
      "Downloading: http://httpstat.us/500\n",
      "Download error: HTTP Error 500: Internal Server Error ==> Internal Server Error\n",
      "Downloading: http://httpstat.us/500\n",
      "Download error: HTTP Error 500: Internal Server Error ==> Internal Server Error\n",
      "Downloading: http://httpstat.us/500\n",
      "Download error: HTTP Error 500: Internal Server Error ==> Internal Server Error\n"
     ]
    }
   ],
   "source": [
    "import urllib2\n",
    "\n",
    "def download(url,user_agent='wswp',num_retries=3):\n",
    "    print 'Downloading:',url\n",
    "    headers={'User-agent':user_agent}\n",
    "    request=urllib2.Request(url,headers=headers)\n",
    "    try:\n",
    "        html=urllib2.urlopen(url).read()\n",
    "    except urllib2.URLError as e:\n",
    "        print 'Download error:',e,'==>',e.reason\n",
    "        html=None\n",
    "        if num_retries>0:\n",
    "            if hasattr(e,'code') and 500<=e.code<600:\n",
    "                return download(url,user_agent,num_retries-2)\n",
    "    return html\n",
    "\n",
    "url='http://www.vision.uestc.edu.cn'\n",
    "url1='http://www.metup.com/'\n",
    "url2='http://httpstat.us/500'\n",
    "url3='http://blog.tianya.cn/blog-773339-1.shtml'\n",
    "download(url2)"
   ]
  },
  {
   "cell_type": "markdown",
   "metadata": {},
   "source": [
    "### 1.网站地图爬取："
   ]
  },
  {
   "cell_type": "code",
   "execution_count": 8,
   "metadata": {},
   "outputs": [],
   "source": [
    "import re\n",
    "def crawl_sitemap(url):\n",
    "    #download the sitemap file\n",
    "    sitemap=download(url)\n",
    "    #extract the sitemap links\n",
    "    links=re.findall('<loc>(.*?)</loc>',sitemap)   #正则表达式\n",
    "    #find all links:\n",
    "    for link in links:\n",
    "        print link\n",
    "#         html=download(link)"
   ]
  },
  {
   "cell_type": "code",
   "execution_count": 9,
   "metadata": {},
   "outputs": [
    {
     "name": "stdout",
     "output_type": "stream",
     "text": [
      "Downloading: https://jandan.net/sitemaps/2017-09.xml\n",
      "http://jandan.net/2017/09/30/historical-fact-2.html\n",
      "http://jandan.net/2017/09/30/slow-walkers.html\n",
      "http://jandan.net/2017/09/30/sterile-mosquitoes.html\n",
      "http://jandan.net/2017/09/30/worst-shopping.html\n",
      "http://jandan.net/2017/09/30/avoid-bringi.html\n",
      "http://jandan.net/2017/09/30/next-rocket.html\n",
      "http://jandan.net/2017/09/30/cold-weather-2.html\n",
      "http://jandan.net/2017/09/30/eaten-alive.html\n",
      "http://jandan.net/2017/09/29/brain-appetite.html\n",
      "http://jandan.net/2017/09/29/pizza-falsch.html\n",
      "http://jandan.net/2017/09/29/tiny-robots.html\n",
      "http://jandan.net/2017/09/29/carbon-nanotube.html\n",
      "http://jandan.net/2017/09/29/human-embryo-2.html\n",
      "http://jandan.net/2017/09/29/new-giant-rat.html\n",
      "http://jandan.net/2017/09/29/egyptian-kings.html\n",
      "http://jandan.net/2017/09/29/viking-boat.html\n",
      "http://jandan.net/2017/09/29/interesting-facts-behavior.html\n",
      "http://jandan.net/2017/09/29/cold-weather.html\n",
      "http://jandan.net/2017/09/29/fish-individual.html\n",
      "http://jandan.net/2017/09/29/abseiling-spiders.html\n",
      "http://jandan.net/2017/09/29/fml-1126.html\n",
      "http://jandan.net/2017/09/28/should-you-get-back.html\n",
      "http://jandan.net/2017/09/28/married-couples-2.html\n",
      "http://jandan.net/2017/09/28/talk-to-cat-2.html\n",
      "http://jandan.net/2017/09/28/sleep-deprivation-3.html\n",
      "http://jandan.net/2017/09/28/overeating-dangers.html\n",
      "http://jandan.net/2017/09/28/strauss-jacket.html\n",
      "http://jandan.net/2017/09/28/my-dog.html\n",
      "http://jandan.net/2017/09/28/monkey-mother.html\n",
      "http://jandan.net/2017/09/28/vegetarian-dinosaurs.html\n",
      "http://jandan.net/2017/09/28/octopus-city.html\n",
      "http://jandan.net/2017/09/28/saudi-arabia-2.html\n",
      "http://jandan.net/2017/09/27/weirdest-thing-guest.html\n",
      "http://jandan.net/2017/09/27/brain-cells.html\n",
      "http://jandan.net/2017/09/27/trouble-left.html\n",
      "http://jandan.net/2017/09/27/dog-obsessed-chew.html\n",
      "http://jandan.net/2017/09/27/hilarious-fact.html\n",
      "http://jandan.net/2017/09/27/ancient-greek-4.html\n",
      "http://jandan.net/2017/09/27/pink-tube.html\n",
      "http://jandan.net/2017/09/27/largest-snake.html\n",
      "http://jandan.net/2017/09/27/ancient-greek-3.html\n",
      "http://jandan.net/2017/09/27/cat-assholeish-2.html\n",
      "http://jandan.net/2017/09/27/toast-before.html\n",
      "http://jandan.net/2017/09/26/online-reviews.html\n",
      "http://jandan.net/2017/09/26/battle-royale-pubg.html\n",
      "http://jandan.net/2017/09/26/stem-cells-hair.html\n",
      "http://jandan.net/2017/09/26/king-eadwig.html\n",
      "http://jandan.net/2017/09/26/share-a-bed.html\n",
      "http://jandan.net/2017/09/26/had-a-drinking.html\n",
      "http://jandan.net/2017/09/26/ancient-greek-2.html\n",
      "http://jandan.net/2017/09/26/aliens-japanese.html\n",
      "http://jandan.net/2017/09/26/unexpected-today.html\n",
      "http://jandan.net/2017/09/26/booze-detecting.html\n",
      "http://jandan.net/2017/09/26/without-pets-2.html\n",
      "http://jandan.net/2017/09/26/historical-colors-3.html\n",
      "http://jandan.net/2017/09/26/many-push-ups.html\n",
      "http://jandan.net/2017/09/26/so-near.html\n",
      "http://jandan.net/2017/09/26/fml-1125.html\n",
      "http://jandan.net/2017/09/25/qa-17.html\n",
      "http://jandan.net/2017/09/25/wtf-alien.html\n",
      "http://jandan.net/2017/09/25/chubby-guys-hot.html\n",
      "http://jandan.net/2017/09/25/sketching-buildings.html\n",
      "http://jandan.net/2017/09/25/universe-fill-light.html\n",
      "http://jandan.net/2017/09/25/birds-hatch-breath.html\n",
      "http://jandan.net/2017/09/25/showerthoughts-14.html\n",
      "http://jandan.net/2017/09/25/save-money.html\n",
      "http://jandan.net/2017/09/25/better-password.html\n",
      "http://jandan.net/2017/09/25/secret-copyright.html\n",
      "http://jandan.net/2017/09/25/history-color.html\n",
      "http://jandan.net/2017/09/25/mexican-modeling.html\n",
      "http://jandan.net/2017/09/25/people-cotards.html\n",
      "http://jandan.net/2017/09/25/fml-1124.html\n",
      "http://jandan.net/2017/09/25/hahaha-50.html\n",
      "http://jandan.net/2017/09/24/sick-4chan-79.html\n",
      "http://jandan.net/2017/09/24/safety-devices.html\n",
      "http://jandan.net/2017/09/24/historical-colors-2.html\n",
      "http://jandan.net/2017/09/24/redheads-pain.html\n",
      "http://jandan.net/2017/09/24/historical-colors.html\n",
      "http://jandan.net/2017/09/24/science-class.html\n",
      "http://jandan.net/2017/09/24/dumber-than-wolf.html\n",
      "http://jandan.net/2017/09/24/eye-color-2.html\n",
      "http://jandan.net/2017/09/24/most-bizarre-2.html\n",
      "http://jandan.net/2017/09/23/strange-friend.html\n",
      "http://jandan.net/2017/09/23/cultural-shock-america.html\n",
      "http://jandan.net/2017/09/23/deaf-man.html\n",
      "http://jandan.net/2017/09/23/wriggling-parasite.html\n",
      "http://jandan.net/2017/09/23/pacman-frog.html\n",
      "http://jandan.net/2017/09/23/sun-good.html\n",
      "http://jandan.net/2017/09/23/mistake-affected-life.html\n",
      "http://jandan.net/2017/09/23/event-has-been.html\n",
      "http://jandan.net/2017/09/23/without-pets.html\n",
      "http://jandan.net/2017/09/23/hindu-god-7.html\n",
      "http://jandan.net/2017/09/23/fml-1123.html\n",
      "http://jandan.net/2017/09/23/lucrative-jobs.html\n",
      "http://jandan.net/2017/09/22/fresh-blood.html\n",
      "http://jandan.net/2017/09/22/other-people-2.html\n",
      "http://jandan.net/2017/09/22/geneticists-pan.html\n",
      "http://jandan.net/2017/09/22/most-embarrassing-2.html\n",
      "http://jandan.net/2017/09/22/parrot-online.html\n",
      "http://jandan.net/2017/09/22/facts-about-food.html\n",
      "http://jandan.net/2017/09/22/seeing-without-eyes.html\n",
      "http://jandan.net/2017/09/22/microneedle-skin.html\n",
      "http://jandan.net/2017/09/22/hindu-god-6.html\n",
      "http://jandan.net/2017/09/22/cat-assholeish.html\n",
      "http://jandan.net/2017/09/22/single-food.html\n",
      "http://jandan.net/2017/09/22/hindu-god-5.html\n",
      "http://jandan.net/2017/09/22/fml-1122.html\n",
      "http://jandan.net/2017/09/22/gen-z.html\n",
      "http://jandan.net/2017/09/21/back-off.html\n",
      "http://jandan.net/2017/09/21/most-childish.html\n",
      "http://jandan.net/2017/09/21/large-small-animals.html\n",
      "http://jandan.net/2017/09/21/longest-beard.html\n",
      "http://jandan.net/2017/09/21/fly-lands-food.html\n",
      "http://jandan.net/2017/09/21/cats-steal.html\n",
      "http://jandan.net/2017/09/21/transplant-dna.html\n",
      "http://jandan.net/2017/09/21/genes-behavioral.html\n",
      "http://jandan.net/2017/09/21/hindu-god-4.html\n",
      "http://jandan.net/2017/09/21/swallow-gum-2.html\n",
      "http://jandan.net/2017/09/21/unluckiest-traveller.html\n",
      "http://jandan.net/2017/09/21/hindu-god-3.html\n",
      "http://jandan.net/2017/09/21/fml-1121.html\n",
      "http://jandan.net/2017/09/20/after-the-quake.html\n",
      "http://jandan.net/2017/09/20/alcohol-thin-air.html\n",
      "http://jandan.net/2017/09/20/hottest-earth-2.html\n",
      "http://jandan.net/2017/09/20/worst-eaten.html\n",
      "http://jandan.net/2017/09/20/impossible-vampires.html\n",
      "http://jandan.net/2017/09/20/fat-regulating.html\n",
      "http://jandan.net/2017/09/20/free-section.html\n",
      "http://jandan.net/2017/09/20/employed-as-signalman.html\n",
      "http://jandan.net/2017/09/20/immune-system-2.html\n",
      "http://jandan.net/2017/09/20/hindu-god-2.html\n",
      "http://jandan.net/2017/09/20/hindu-god.html\n",
      "http://jandan.net/2017/09/20/australia.html\n",
      "http://jandan.net/2017/09/20/fml-1120.html\n",
      "http://jandan.net/2017/09/19/nonexistent-hand.html\n",
      "http://jandan.net/2017/09/19/infantry-weapons-of-wwi.html\n",
      "http://jandan.net/2017/09/19/worker-ants-2.html\n",
      "http://jandan.net/2017/09/19/believed-to-be-2.html\n",
      "http://jandan.net/2017/09/19/burger-robots.html\n",
      "http://jandan.net/2017/09/19/egyptian-god-4.html\n",
      "http://jandan.net/2017/09/19/egyptian-god-3.html\n",
      "http://jandan.net/2017/09/19/historical-fact.html\n",
      "http://jandan.net/2017/09/19/ai-gaydar-study.html\n",
      "http://jandan.net/2017/09/19/moons-saturn.html\n",
      "http://jandan.net/2017/09/19/nasa-cassini.html\n",
      "http://jandan.net/2017/09/18/precarious-hotel-2.html\n",
      "http://jandan.net/2017/09/18/cotton-material.html\n",
      "http://jandan.net/2017/09/18/france-baker.html\n",
      "http://jandan.net/2017/09/18/showerthoughts-13.html\n",
      "http://jandan.net/2017/09/18/cigarette-smoke.html\n",
      "http://jandan.net/2017/09/18/egyptian-god-2.html\n",
      "http://jandan.net/2017/09/18/egyptian-god.html\n",
      "http://jandan.net/2017/09/18/ig-nobel-2017.html\n",
      "http://jandan.net/2017/09/18/fml-1119.html\n",
      "http://jandan.net/2017/09/17/precarious-hotel.html\n",
      "http://jandan.net/2017/09/17/elephants-foraging.html\n",
      "http://jandan.net/2017/09/17/mechanism-memory.html\n",
      "http://jandan.net/2017/09/17/sick-4chan-78.html\n",
      "http://jandan.net/2017/09/17/brain-halves.html\n",
      "http://jandan.net/2017/09/17/his-beard.html\n",
      "http://jandan.net/2017/09/17/use-inside.html\n",
      "http://jandan.net/2017/09/17/attractive-men.html\n",
      "http://jandan.net/2017/09/17/thor.html\n",
      "http://jandan.net/2017/09/17/odin.html\n",
      "http://jandan.net/2017/09/17/democracy-in-america.html\n",
      "http://jandan.net/2017/09/17/fml-1118.html\n",
      "http://jandan.net/2017/09/17/qa-16.html\n",
      "http://jandan.net/2017/09/16/prophecy.html\n",
      "http://jandan.net/2017/09/16/hydrogen-power.html\n",
      "http://jandan.net/2017/09/16/oddly-illegal.html\n",
      "http://jandan.net/2017/09/16/antarctica-ice-cave.html\n",
      "http://jandan.net/2017/09/16/mixed-feelings.html\n",
      "http://jandan.net/2017/09/16/antibiotics.html\n",
      "http://jandan.net/2017/09/16/beard-tax.html\n",
      "http://jandan.net/2017/09/16/many-guineas.html\n",
      "http://jandan.net/2017/09/16/die-virgins.html\n",
      "http://jandan.net/2017/09/16/norse-god-2.html\n",
      "http://jandan.net/2017/09/16/norse-god.html\n",
      "http://jandan.net/2017/09/16/piero-manzoni-shit.html\n",
      "http://jandan.net/2017/09/16/fml-1117.html\n",
      "http://jandan.net/2017/09/15/monster.html\n",
      "http://jandan.net/2017/09/15/short-stories-3.html\n",
      "http://jandan.net/2017/09/15/hilarious-historical-2.html\n",
      "http://jandan.net/2017/09/15/strange-deaths.html\n",
      "http://jandan.net/2017/09/15/porn-bring-different.html\n",
      "http://jandan.net/2017/09/15/grow-meat.html\n",
      "http://jandan.net/2017/09/15/greek-gods-3.html\n",
      "http://jandan.net/2017/09/15/butter.html\n",
      "http://jandan.net/2017/09/15/car-seat-costume.html\n",
      "http://jandan.net/2017/09/15/strangest-neighbor.html\n",
      "http://jandan.net/2017/09/15/revive-lost-species.html\n",
      "http://jandan.net/2017/09/15/greek-gods-2.html\n",
      "http://jandan.net/2017/09/15/breakthrough-device.html\n",
      "http://jandan.net/2017/09/15/giraffes-long-necks.html\n",
      "http://jandan.net/2017/09/15/fml-1116.html\n",
      "http://jandan.net/2017/09/14/man-in-the-photo.html\n",
      "http://jandan.net/2017/09/14/you-kissed-someone.html\n",
      "http://jandan.net/2017/09/14/sun-core-rotates.html\n",
      "http://jandan.net/2017/09/14/story-of-bastard.html\n",
      "http://jandan.net/2017/09/14/under-antarctica.html\n",
      "http://jandan.net/2017/09/14/tattoos-travel-around.html\n",
      "http://jandan.net/2017/09/14/world-ending.html\n",
      "http://jandan.net/2017/09/14/accio.html\n",
      "http://jandan.net/2017/09/14/earthquake-faults.html\n",
      "http://jandan.net/2017/09/14/starwars-director.html\n",
      "http://jandan.net/2017/09/14/history-too-crazy.html\n",
      "http://jandan.net/2017/09/14/greek-gods.html\n",
      "http://jandan.net/2017/09/14/ronald-reagan.html\n",
      "http://jandan.net/2017/09/14/prevent-suicide.html\n",
      "http://jandan.net/2017/09/14/fml-1115.html\n",
      "http://jandan.net/2017/09/14/doggy-is-dangerous.html\n",
      "http://jandan.net/2017/09/13/heart.html\n",
      "http://jandan.net/2017/09/13/believed-to-be.html\n",
      "http://jandan.net/2017/09/13/sun-to-earth.html\n",
      "http://jandan.net/2017/09/13/what-travel-hacks.html\n",
      "http://jandan.net/2017/09/13/wearable-tech.html\n",
      "http://jandan.net/2017/09/13/caffeine-tricks.html\n",
      "http://jandan.net/2017/09/13/monstrous-gamers.html\n",
      "http://jandan.net/2017/09/13/ass-cancer-2.html\n",
      "http://jandan.net/2017/09/13/the-mask.html\n",
      "http://jandan.net/2017/09/13/qualcomm-limit.html\n",
      "http://jandan.net/2017/09/13/vanishing-point.html\n",
      "http://jandan.net/2017/09/13/john-kennedy.html\n",
      "http://jandan.net/2017/09/13/goof-off.html\n",
      "http://jandan.net/2017/09/13/franklin-roosevelt.html\n",
      "http://jandan.net/2017/09/13/viking-dna.html\n",
      "http://jandan.net/2017/09/13/fml-1114.html\n",
      "http://jandan.net/2017/09/13/that-world.html\n",
      "http://jandan.net/2017/09/12/hahaha-49.html\n",
      "http://jandan.net/2017/09/12/new-iphone-4.html\n",
      "http://jandan.net/2017/09/12/social-cohesion.html\n",
      "http://jandan.net/2017/09/12/nsfw-fact.html\n",
      "http://jandan.net/2017/09/12/equifax-breach.html\n",
      "http://jandan.net/2017/09/12/common-lies-women.html\n",
      "http://jandan.net/2017/09/12/wild-dogs.html\n",
      "http://jandan.net/2017/09/12/sssssss-sound.html\n",
      "http://jandan.net/2017/09/12/win-lottery-happier.html\n",
      "http://jandan.net/2017/09/12/multiverse.html\n",
      "http://jandan.net/2017/09/12/detector-food.html\n",
      "http://jandan.net/2017/09/12/calvin-coolidge.html\n",
      "http://jandan.net/2017/09/12/theodore-roosevelt.html\n",
      "http://jandan.net/2017/09/12/the-quantum.html\n",
      "http://jandan.net/2017/09/12/chinese-students.html\n",
      "http://jandan.net/2017/09/12/showerthoughts-12.html\n",
      "http://jandan.net/2017/09/12/fml-1113.html\n",
      "http://jandan.net/2017/09/12/sleep-how-much.html\n",
      "http://jandan.net/2017/09/11/hahaha-48.html\n",
      "http://jandan.net/2017/09/11/fossil-footprints.html\n",
      "http://jandan.net/2017/09/11/parasites-inside.html\n",
      "http://jandan.net/2017/09/11/mythical-beasts.html\n",
      "http://jandan.net/2017/09/11/spy-agencies.html\n",
      "http://jandan.net/2017/09/11/about-lv.html\n",
      "http://jandan.net/2017/09/11/cinderella.html\n",
      "http://jandan.net/2017/09/11/atheists-nicer.html\n",
      "http://jandan.net/2017/09/11/somalia-womens-3.html\n",
      "http://jandan.net/2017/09/11/somalia-womens-2.html\n",
      "http://jandan.net/2017/09/11/somalia-womens.html\n",
      "http://jandan.net/2017/09/11/scenes-from-life.html\n",
      "http://jandan.net/2017/09/11/northern-lights-2.html\n",
      "http://jandan.net/2017/09/11/fml-1112.html\n",
      "http://jandan.net/2017/09/10/hahaha-47.html\n",
      "http://jandan.net/2017/09/10/us-immigration-experience.html\n",
      "http://jandan.net/2017/09/10/simulated-primordial.html\n",
      "http://jandan.net/2017/09/10/sick-4chan-77.html\n",
      "http://jandan.net/2017/09/10/streets-white.html\n",
      "http://jandan.net/2017/09/10/angels-mating.html\n",
      "http://jandan.net/2017/09/10/valuable-gold.html\n",
      "http://jandan.net/2017/09/10/mr-owl.html\n",
      "http://jandan.net/2017/09/10/permanent-erection.html\n",
      "http://jandan.net/2017/09/10/singularly-sticky.html\n",
      "http://jandan.net/2017/09/10/dogs-colorblind.html\n",
      "http://jandan.net/2017/09/10/hot-sauce.html\n",
      "http://jandan.net/2017/09/10/bizarre-brain.html\n",
      "http://jandan.net/2017/09/10/fml-1111.html\n",
      "http://jandan.net/2017/09/10/qa-15.html\n",
      "http://jandan.net/2017/09/09/roger-wilco.html\n",
      "http://jandan.net/2017/09/09/system-stellar.html\n",
      "http://jandan.net/2017/09/09/or-straight.html\n",
      "http://jandan.net/2017/09/09/the-death-feeling.html\n",
      "http://jandan.net/2017/09/09/iq-were-1000.html\n",
      "http://jandan.net/2017/09/09/stronger-than-ability.html\n",
      "http://jandan.net/2017/09/09/your-most-insane.html\n",
      "http://jandan.net/2017/09/09/benjamin-harrison.html\n",
      "http://jandan.net/2017/09/09/lincoln-wilson.html\n",
      "http://jandan.net/2017/09/09/standard-model.html\n",
      "http://jandan.net/2017/09/09/later-school.html\n",
      "http://jandan.net/2017/09/09/iphones-arent-luxury.html\n",
      "http://jandan.net/2017/09/09/fml-1110.html\n",
      "http://jandan.net/2017/09/09/next-decades.html\n",
      "http://jandan.net/2017/09/09/little-for-sell.html\n",
      "http://jandan.net/2017/09/08/macaques-stone.html\n",
      "http://jandan.net/2017/09/08/four-times.html\n",
      "http://jandan.net/2017/09/08/half-priests.html\n",
      "http://jandan.net/2017/09/08/their-birthday.html\n",
      "http://jandan.net/2017/09/08/debark-dogs.html\n",
      "http://jandan.net/2017/09/08/research-zombie.html\n",
      "http://jandan.net/2017/09/08/mars-evidence.html\n",
      "http://jandan.net/2017/09/08/laws-physics.html\n",
      "http://jandan.net/2017/09/08/wedding-guest.html\n",
      "http://jandan.net/2017/09/08/fml-1109.html\n",
      "http://jandan.net/2017/09/08/valentines-confession.html\n",
      "http://jandan.net/2017/09/07/her-story.html\n",
      "http://jandan.net/2017/09/07/smoking-military.html\n",
      "http://jandan.net/2017/09/07/time-different.html\n",
      "http://jandan.net/2017/09/07/smart-products.html\n",
      "http://jandan.net/2017/09/07/mokomokai.html\n",
      "http://jandan.net/2017/09/07/most-sexual-thing.html\n",
      "http://jandan.net/2017/09/07/job-skills.html\n",
      "http://jandan.net/2017/09/07/franklin.html\n",
      "http://jandan.net/2017/09/07/john-taylor.html\n",
      "http://jandan.net/2017/09/07/james-monroe.html\n",
      "http://jandan.net/2017/09/07/make-materials.html\n",
      "http://jandan.net/2017/09/07/gay-sexual-lgbt.html\n",
      "http://jandan.net/2017/09/07/schizophrenia.html\n",
      "http://jandan.net/2017/09/07/like-americans.html\n",
      "http://jandan.net/2017/09/07/muscles.html\n",
      "http://jandan.net/2017/09/07/smartphone-2.html\n",
      "http://jandan.net/2017/09/07/fml-1108.html\n",
      "http://jandan.net/2017/09/06/forgotten-homework.html\n",
      "http://jandan.net/2017/09/06/poison-dart-frogs.html\n",
      "http://jandan.net/2017/09/06/awkward-situation.html\n",
      "http://jandan.net/2017/09/06/old-script-4.html\n",
      "http://jandan.net/2017/09/06/bee-larvae-fed.html\n",
      "http://jandan.net/2017/09/06/bedroom-door.html\n",
      "http://jandan.net/2017/09/06/sawney-bean.html\n",
      "http://jandan.net/2017/09/06/urban-evolution.html\n",
      "http://jandan.net/2017/09/06/worst-thing.html\n",
      "http://jandan.net/2017/09/06/purple-frog.html\n",
      "http://jandan.net/2017/09/06/work-rules.html\n",
      "http://jandan.net/2017/09/06/computer-knows.html\n",
      "http://jandan.net/2017/09/06/rent-a-fish.html\n",
      "http://jandan.net/2017/09/06/threat-floods.html\n",
      "http://jandan.net/2017/09/06/rescue-houston.html\n",
      "http://jandan.net/2017/09/06/fml-1107.html\n",
      "http://jandan.net/2017/09/05/my-roommate-2.html\n",
      "http://jandan.net/2017/09/05/party-souls.html\n",
      "http://jandan.net/2017/09/05/whisky.html\n",
      "http://jandan.net/2017/09/05/imax-screens.html\n",
      "http://jandan.net/2017/09/05/use-machine.html\n",
      "http://jandan.net/2017/09/05/largest-honey-bee.html\n",
      "http://jandan.net/2017/09/05/ditch-sugar-diet.html\n",
      "http://jandan.net/2017/09/05/greatest-feeling.html\n",
      "http://jandan.net/2017/09/05/hilarious-history.html\n",
      "http://jandan.net/2017/09/05/mercy-brown.html\n",
      "http://jandan.net/2017/09/05/most-bizarre.html\n",
      "http://jandan.net/2017/09/05/toilet-kill.html\n",
      "http://jandan.net/2017/09/05/first-feel-old.html\n",
      "http://jandan.net/2017/09/05/old-script-3.html\n",
      "http://jandan.net/2017/09/05/invented-ketchup.html\n",
      "http://jandan.net/2017/09/05/fml-1105.html\n",
      "http://jandan.net/2017/09/04/my-roommate.html\n",
      "http://jandan.net/2017/09/04/qa-14.html\n",
      "http://jandan.net/2017/09/04/basketball-teen.html\n",
      "http://jandan.net/2017/09/04/lakes-fish.html\n",
      "http://jandan.net/2017/09/04/sea-cucumbers-2.html\n",
      "http://jandan.net/2017/09/04/ubi.html\n",
      "http://jandan.net/2017/09/04/used-warfare.html\n",
      "http://jandan.net/2017/09/04/break-mirror.html\n",
      "http://jandan.net/2017/09/04/found-my-daughter.html\n",
      "http://jandan.net/2017/09/04/countries-with-more.html\n",
      "http://jandan.net/2017/09/04/theories-black.html\n",
      "http://jandan.net/2017/09/04/toothless-dwarf.html\n",
      "http://jandan.net/2017/09/04/yawning-cortex.html\n",
      "http://jandan.net/2017/09/04/gene-therapy-3.html\n",
      "http://jandan.net/2017/09/04/showerthoughts-11.html\n",
      "http://jandan.net/2017/09/04/instagram-hack.html\n",
      "http://jandan.net/2017/09/04/fml-1104.html\n",
      "http://jandan.net/2017/09/04/lost-key-3.html\n",
      "http://jandan.net/2017/09/03/maskedman-6.html\n",
      "http://jandan.net/2017/09/03/what-gets-fed.html\n",
      "http://jandan.net/2017/09/03/became-popular.html\n",
      "http://jandan.net/2017/09/03/sick-4chan-76.html\n",
      "http://jandan.net/2017/09/03/wonder-drug-heart.html\n",
      "http://jandan.net/2017/09/03/ai-artists.html\n",
      "http://jandan.net/2017/09/03/lobster-war.html\n",
      "http://jandan.net/2017/09/03/pagan-culture.html\n",
      "http://jandan.net/2017/09/03/best-compliment-received.html\n",
      "http://jandan.net/2017/09/03/brain-young.html\n",
      "http://jandan.net/2017/09/03/ultraviolet-important.html\n",
      "http://jandan.net/2017/09/03/elephant-rescued.html\n",
      "http://jandan.net/2017/09/03/bermuda-triangle-2.html\n",
      "http://jandan.net/2017/09/03/bacteria-medicine.html\n",
      "http://jandan.net/2017/09/03/ladder-fight.html\n",
      "http://jandan.net/2017/09/03/butthole-facts.html\n",
      "http://jandan.net/2017/09/03/source-brain.html\n",
      "http://jandan.net/2017/09/03/violence-medieval.html\n",
      "http://jandan.net/2017/09/03/fml-1102.html\n",
      "http://jandan.net/2017/09/03/teaching-grit.html\n",
      "http://jandan.net/2017/09/02/lost-key-2.html\n",
      "http://jandan.net/2017/09/02/avoiding-sex.html\n",
      "http://jandan.net/2017/09/02/monsters-mirror.html\n",
      "http://jandan.net/2017/09/02/bigger-ears.html\n",
      "http://jandan.net/2017/09/02/washington-buchanan.html\n",
      "http://jandan.net/2017/09/02/laborers-peru.html\n",
      "http://jandan.net/2017/09/02/lower-your-risk.html\n",
      "http://jandan.net/2017/09/02/roll-your-eyes.html\n",
      "http://jandan.net/2017/09/02/beekeeper-sits-on.html\n",
      "http://jandan.net/2017/09/02/brain-time.html\n",
      "http://jandan.net/2017/09/02/curried-chickpea.html\n",
      "http://jandan.net/2017/09/02/useless-invention.html\n",
      "http://jandan.net/2017/09/02/above-or-below.html\n",
      "http://jandan.net/2017/09/02/lottery-affects.html\n",
      "http://jandan.net/2017/09/02/find-four-leaf.html\n",
      "http://jandan.net/2017/09/02/fml-1101.html\n",
      "http://jandan.net/2017/09/01/scarecrow.html\n",
      "http://jandan.net/2017/09/01/lost-key.html\n",
      "http://jandan.net/2017/09/01/mystery-disappearing.html\n",
      "http://jandan.net/2017/09/01/craziest-wi-fi.html\n",
      "http://jandan.net/2017/09/01/define-a-cats.html\n",
      "http://jandan.net/2017/09/01/melasma.html\n",
      "http://jandan.net/2017/09/01/marriage-vs-heart.html\n",
      "http://jandan.net/2017/09/01/elephant-graveyards.html\n",
      "http://jandan.net/2017/09/01/dunkirk-evacuation-2.html\n",
      "http://jandan.net/2017/09/01/upset-a-narcissist.html\n",
      "http://jandan.net/2017/09/01/sleeping-naked-2.html\n",
      "http://jandan.net/2017/09/01/selfie-to-detect.html\n",
      "http://jandan.net/2017/09/01/hilarious-historical.html\n",
      "http://jandan.net/2017/09/01/vehicles-microscale.html\n",
      "http://jandan.net/2017/09/01/fml-1100.html\n"
     ]
    }
   ],
   "source": [
    "url='https://jandan.net/sitemaps/2017-09.xml'\n",
    "crawl_sitemap(url)"
   ]
  },
  {
   "cell_type": "markdown",
   "metadata": {},
   "source": [
    "### 2.ID遍历爬虫"
   ]
  },
  {
   "cell_type": "markdown",
   "metadata": {},
   "source": [
    "#### python 延迟几秒\n",
    "import time  \n",
    "time.sleep(3)"
   ]
  },
  {
   "cell_type": "code",
   "execution_count": 10,
   "metadata": {},
   "outputs": [
    {
     "name": "stdout",
     "output_type": "stream",
     "text": [
      "Downloading: http://example.webscraping.com/places/default/view/0\n",
      "Download error: HTTP Error 404: NOT FOUND ==> NOT FOUND\n",
      "Downloading: http://example.webscraping.com/places/default/view/1\n",
      "http://example.webscraping.com/places/default/view/1\n",
      "Downloading: http://example.webscraping.com/places/default/view/2\n",
      "http://example.webscraping.com/places/default/view/2\n",
      "Downloading: http://example.webscraping.com/places/default/view/3\n",
      "http://example.webscraping.com/places/default/view/3\n",
      "Downloading: http://example.webscraping.com/places/default/view/4\n",
      "http://example.webscraping.com/places/default/view/4\n",
      "Downloading: http://example.webscraping.com/places/default/view/5\n",
      "http://example.webscraping.com/places/default/view/5\n",
      "Downloading: http://example.webscraping.com/places/default/view/6\n",
      "http://example.webscraping.com/places/default/view/6\n",
      "Downloading: http://example.webscraping.com/places/default/view/7\n",
      "http://example.webscraping.com/places/default/view/7\n",
      "Downloading: http://example.webscraping.com/places/default/view/8\n",
      "http://example.webscraping.com/places/default/view/8\n",
      "Downloading: http://example.webscraping.com/places/default/view/9\n",
      "http://example.webscraping.com/places/default/view/9\n"
     ]
    }
   ],
   "source": [
    "import itertools,time\n",
    "max_errors=5\n",
    "num_errors=0\n",
    "for page in range(10):#itertools.count(1):\n",
    "    url='http://example.webscraping.com/places/default/view/%d' %page\n",
    "    html=download(url)\n",
    "    time.sleep(2)\n",
    "    if html==None:\n",
    "        num_errors+=1\n",
    "        if num_errors==max_errors:\n",
    "            break\n",
    "    else:\n",
    "        num_errors=0\n",
    "        print url"
   ]
  },
  {
   "cell_type": "markdown",
   "metadata": {},
   "source": [
    "### 3.链接爬虫"
   ]
  },
  {
   "cell_type": "code",
   "execution_count": 13,
   "metadata": {},
   "outputs": [
    {
     "ename": "TypeError",
     "evalue": "'type' object has no attribute '__getitem__'",
     "output_type": "error",
     "traceback": [
      "\u001b[1;31m\u001b[0m",
      "\u001b[1;31mTypeError\u001b[0mTraceback (most recent call last)",
      "\u001b[1;32m<ipython-input-13-a53b24b2b1aa>\u001b[0m in \u001b[0;36m<module>\u001b[1;34m()\u001b[0m\n\u001b[0;32m     26\u001b[0m \u001b[0murl\u001b[0m\u001b[1;33m=\u001b[0m\u001b[1;34m'http://example.webscraping.com'\u001b[0m\u001b[1;33m\u001b[0m\u001b[0m\n\u001b[0;32m     27\u001b[0m \u001b[1;31m#regex=''\u001b[0m\u001b[1;33m\u001b[0m\u001b[1;33m\u001b[0m\u001b[0m\n\u001b[1;32m---> 28\u001b[1;33m \u001b[0mlink_crawler\u001b[0m\u001b[1;33m(\u001b[0m\u001b[1;34m'http://example.webscraping.com'\u001b[0m\u001b[1;33m,\u001b[0m\u001b[1;34m'/(index|view)'\u001b[0m\u001b[1;33m)\u001b[0m\u001b[1;33m\u001b[0m\u001b[0m\n\u001b[0m",
      "\u001b[1;32m<ipython-input-13-a53b24b2b1aa>\u001b[0m in \u001b[0;36mlink_crawler\u001b[1;34m(seed_url, link_regex)\u001b[0m\n\u001b[0;32m      4\u001b[0m     \u001b[1;34m\"\"\"Crawl from the given seed URL following links matched by link_regex\"\"\"\u001b[0m\u001b[1;33m\u001b[0m\u001b[0m\n\u001b[0;32m      5\u001b[0m     \u001b[0mcrawl_queue\u001b[0m\u001b[1;33m=\u001b[0m\u001b[1;33m[\u001b[0m\u001b[0mseed_url\u001b[0m\u001b[1;33m]\u001b[0m\u001b[1;33m\u001b[0m\u001b[0m\n\u001b[1;32m----> 6\u001b[1;33m     \u001b[0mseen\u001b[0m\u001b[1;33m=\u001b[0m\u001b[0mset\u001b[0m\u001b[1;33m[\u001b[0m\u001b[0mcrawl_queue\u001b[0m\u001b[1;33m]\u001b[0m\u001b[1;33m\u001b[0m\u001b[0m\n\u001b[0m\u001b[0;32m      7\u001b[0m     \u001b[1;32mwhile\u001b[0m \u001b[0mcrawl_queue\u001b[0m\u001b[1;33m:\u001b[0m\u001b[1;33m\u001b[0m\u001b[0m\n\u001b[0;32m      8\u001b[0m         \u001b[0murl\u001b[0m\u001b[1;33m=\u001b[0m\u001b[0mcrawl_queue\u001b[0m\u001b[1;33m.\u001b[0m\u001b[0mpop\u001b[0m\u001b[1;33m(\u001b[0m\u001b[1;33m)\u001b[0m\u001b[1;33m\u001b[0m\u001b[0m\n",
      "\u001b[1;31mTypeError\u001b[0m: 'type' object has no attribute '__getitem__'"
     ]
    }
   ],
   "source": [
    "import re\n",
    "import urlparse\n",
    "def link_crawler(seed_url, link_regex):\n",
    "    \"\"\"Crawl from the given seed URL following links matched by link_regex\"\"\"\n",
    "    crawl_queue=[seed_url]\n",
    "    seen=set(crawl_queue)\n",
    "    while crawl_queue:\n",
    "        url=crawl_queue.pop()\n",
    "        print 'link_crawler:',url\n",
    "        html=download(url)   #暂时不下载\n",
    "        # 使用link_regex过滤给出的链接\n",
    "        for link in get_links(html):\n",
    "            #if re.match(link_regex,link):        ==书上使用match有误，应该为search() \n",
    "            if re.search(link_regex,link): \n",
    "                link=urlparse.urljoin(seed_url,link)\n",
    "                if link not in seen:\n",
    "                    seen.add(link)\n",
    "                    crawl_queue.append(link)\n",
    "\n",
    "def get_links(html):\n",
    "    webpage_regex=re.compile('<a[^>]+href=[\"\\'](.*?)[\"\\']',re.IGNORECASE)\n",
    "    return webpage_regex.findall(html)\n",
    "\n",
    "# 测试\n",
    "url='http://example.webscraping.com'\n",
    "#regex=''\n",
    "link_crawler('http://example.webscraping.com','/(index|view)')"
   ]
  },
  {
   "cell_type": "markdown",
   "metadata": {},
   "source": [
    "#### 解析robots.txt\n",
    "使用Python自带的**robotparser模块**"
   ]
  },
  {
   "cell_type": "code",
   "execution_count": 14,
   "metadata": {},
   "outputs": [
    {
     "data": {
      "text/plain": [
       "False"
      ]
     },
     "execution_count": 14,
     "metadata": {},
     "output_type": "execute_result"
    }
   ],
   "source": [
    "import robotparser\n",
    "rp=robotparser.RobotFileParser()\n",
    "rp.set_url('https://www.douban.com/robots.txt')\n",
    "rp.read()\n",
    "url='https://www.douban.com/'\n",
    "user_agent='Wandoujia Spider'\n",
    "rp.can_fetch(user_agent,url)"
   ]
  },
  {
   "cell_type": "code",
   "execution_count": 15,
   "metadata": {},
   "outputs": [
    {
     "data": {
      "text/plain": [
       "True"
      ]
     },
     "execution_count": 15,
     "metadata": {},
     "output_type": "execute_result"
    }
   ],
   "source": [
    "user_agent='BadCrawler'\n",
    "rp.can_fetch(user_agent,url)"
   ]
  },
  {
   "cell_type": "markdown",
   "metadata": {},
   "source": [
    "## 数据抓取的三种方法\n",
    "\n",
    "#### 1.正则表达式"
   ]
  },
  {
   "cell_type": "code",
   "execution_count": 19,
   "metadata": {},
   "outputs": [
    {
     "name": "stdout",
     "output_type": "stream",
     "text": [
      "Downloading: http://example.webscraping.com/places/default/view/Afghanistan-1\n"
     ]
    },
    {
     "data": {
      "text/plain": [
       "'647,500 square kilometres'"
      ]
     },
     "execution_count": 19,
     "metadata": {},
     "output_type": "execute_result"
    }
   ],
   "source": [
    "import re\n",
    "url='http://example.webscraping.com/places/default/view/Afghanistan-1'\n",
    "html=download(url)\n",
    "re.findall('<td class=\"w2p_fw\">(.*?)</td>',html)[1]"
   ]
  },
  {
   "cell_type": "markdown",
   "metadata": {},
   "source": [
    "#### 2.BeatifulSoup"
   ]
  },
  {
   "cell_type": "code",
   "execution_count": 28,
   "metadata": {},
   "outputs": [
    {
     "name": "stdout",
     "output_type": "stream",
     "text": [
      "<ul class=\"country\">\n",
      " <li>\n",
      "  Area\n",
      " </li>\n",
      " <li>\n",
      "  Population\n",
      " </li>\n",
      "</ul>\n"
     ]
    }
   ],
   "source": [
    "# html 解析 并 格式规范化\n",
    "from bs4 import BeautifulSoup\n",
    "broken_html='<ul class=country><li>Area</li><li>Population</ul>'\n",
    "soup=BeautifulSoup(broken_html,'html.parser')\n",
    "fixed_html=soup.prettify()\n",
    "print fixed_html"
   ]
  },
  {
   "cell_type": "code",
   "execution_count": 31,
   "metadata": {},
   "outputs": [
    {
     "name": "stdout",
     "output_type": "stream",
     "text": [
      "<ul class=\"country\"><li>Area</li><li>Population</li></ul>\n"
     ]
    }
   ],
   "source": [
    "ul=soup.find('ul',attrs={'class':'country'})\n",
    "print ul"
   ]
  },
  {
   "cell_type": "code",
   "execution_count": 32,
   "metadata": {},
   "outputs": [
    {
     "data": {
      "text/plain": [
       "<li>Area</li>"
      ]
     },
     "execution_count": 32,
     "metadata": {},
     "output_type": "execute_result"
    }
   ],
   "source": [
    "ul.find('li')         # 只查找第一个"
   ]
  },
  {
   "cell_type": "code",
   "execution_count": 55,
   "metadata": {},
   "outputs": [
    {
     "name": "stdout",
     "output_type": "stream",
     "text": [
      "[<li>Area</li>, <li>Population</li>]\n"
     ]
    }
   ],
   "source": [
    "all=ul.find_all('li')     #查找所有的项\n",
    "print all"
   ]
  },
  {
   "cell_type": "code",
   "execution_count": 56,
   "metadata": {},
   "outputs": [
    {
     "name": "stdout",
     "output_type": "stream",
     "text": [
      "Area\n",
      "Population\n"
     ]
    }
   ],
   "source": [
    "print all[0].text\n",
    "print all[1].text"
   ]
  },
  {
   "cell_type": "code",
   "execution_count": 34,
   "metadata": {},
   "outputs": [
    {
     "name": "stdout",
     "output_type": "stream",
     "text": [
      "<li>Area</li>\n"
     ]
    }
   ],
   "source": [
    "print ul.find('li')"
   ]
  },
  {
   "cell_type": "markdown",
   "metadata": {},
   "source": [
    "##### 使用案例"
   ]
  },
  {
   "cell_type": "code",
   "execution_count": 43,
   "metadata": {},
   "outputs": [
    {
     "name": "stdout",
     "output_type": "stream",
     "text": [
      "Downloading: http://example.webscraping.com/places/default/view/239\n",
      "244,820 square kilometres\n"
     ]
    }
   ],
   "source": [
    "from bs4 import BeautifulSoup\n",
    "url='http://example.webscraping.com/places/default/view/239'\n",
    "html=download(url)\n",
    "soup=BeautifulSoup(html,'html')\n",
    "tr=soup.find(attrs={'id':'places_area__row'})\n",
    "td=tr.find(attrs={'class':'w2p_fw'})\n",
    "print td.text"
   ]
  },
  {
   "cell_type": "markdown",
   "metadata": {},
   "source": [
    "#### 3. lxml"
   ]
  },
  {
   "cell_type": "code",
   "execution_count": 64,
   "metadata": {},
   "outputs": [
    {
     "name": "stdout",
     "output_type": "stream",
     "text": [
      "<ul class=\"country\">\n",
      "<li>Area</li>\n",
      "<li>Population</li>\n",
      "</ul>\n",
      "\n"
     ]
    },
    {
     "data": {
      "text/plain": [
       "lxml.html.HtmlElement"
      ]
     },
     "execution_count": 64,
     "metadata": {},
     "output_type": "execute_result"
    }
   ],
   "source": [
    "import lxml.html\n",
    "broken_html='<ul class=country><li>Area<li>Population</ul>'\n",
    "tree=lxml.html.fromstring(broken_html)\n",
    "fixed_html=lxml.html.tostring(tree,pretty_print=True)\n",
    "print fixed_html\n",
    "type(tree)"
   ]
  },
  {
   "cell_type": "code",
   "execution_count": 75,
   "metadata": {},
   "outputs": [
    {
     "name": "stdout",
     "output_type": "stream",
     "text": [
      "244,820 square kilometres\n"
     ]
    }
   ],
   "source": [
    "tree=lxml.html.fromstring(html)\n",
    "td=tree.cssselect('tr#places_area__row > td.w2p_fw')[0]\n",
    "area=td.text_content()\n",
    "print area"
   ]
  },
  {
   "cell_type": "markdown",
   "metadata": {},
   "source": [
    "#### 另外的测试"
   ]
  },
  {
   "cell_type": "code",
   "execution_count": 86,
   "metadata": {},
   "outputs": [
    {
     "name": "stdout",
     "output_type": "stream",
     "text": [
      "1508595375.78\n"
     ]
    }
   ],
   "source": [
    "xxx=download\n",
    "url='https://jandan.net/pic/'\n",
    "\n",
    "import time\n",
    "print time.time()"
   ]
  },
  {
   "cell_type": "code",
   "execution_count": 83,
   "metadata": {},
   "outputs": [
    {
     "name": "stdout",
     "output_type": "stream",
     "text": [
      "Downloading: https://jandan.net/pic/\n"
     ]
    },
    {
     "data": {
      "text/plain": [
       "[<img onload=\"add_img_loading_mask(this, load_sina_gif);\" org_src=\"//wx1.sinaimg.cn/mw690/a8e6d38dly1fkq6305vvfg20dc0dcnpj.gif\" src=\"//wx1.sinaimg.cn/thumb180/a8e6d38dly1fkq6305vvfg20dc0dcnpj.gif\"/>,\n",
       " <img src=\"//wx3.sinaimg.cn/mw600/6c560b83ly1fkq5r6zhnej20ku0ku3yv.jpg\"/>,\n",
       " <img src=\"//wx2.sinaimg.cn/mw600/6c560b83ly1fkq5r7n89wj20ku0u5ta8.jpg\"/>,\n",
       " <img src=\"//wx2.sinaimg.cn/mw600/6c560b83ly1fkq5r80jvzj20ku0eewfm.jpg\"/>,\n",
       " <img src=\"//wx4.sinaimg.cn/mw600/6c560b83ly1fkq5r88ht5j20ku0ee750.jpg\"/>,\n",
       " <img src=\"//wx4.sinaimg.cn/mw600/71021e17gy1fkpb58xbldj20j60dx3zm.jpg\"/>,\n",
       " <img src=\"//wx4.sinaimg.cn/mw600/71021e17gy1fkpb59av8fj20hs0dc3zh.jpg\"/>,\n",
       " <img src=\"//wx2.sinaimg.cn/mw600/71021e17gy1fkpb59oy7nj20go0ciq3r.jpg\"/>,\n",
       " <img src=\"//wx3.sinaimg.cn/mw600/71021e17gy1fkpb58i6nfj20go0cidgu.jpg\"/>,\n",
       " <img src=\"//wx3.sinaimg.cn/mw600/71021e17gy1fkpb5aepibj20ep0hsq46.jpg\"/>,\n",
       " <img src=\"//wx2.sinaimg.cn/mw600/71021e17gy1fkpb5b0kgwj20go0m80u6.jpg\"/>,\n",
       " <img src=\"//wx3.sinaimg.cn/mw600/71021e17gy1fkpb5bfoxbj20hs0hs3zc.jpg\"/>,\n",
       " <img src=\"//wx3.sinaimg.cn/mw600/71021e17gy1fkpb5c4fk6j20j60mfdj6.jpg\"/>,\n",
       " <img src=\"//wx4.sinaimg.cn/mw600/71021e17gy1fkpb5cgmxbj20dc0hsaaq.jpg\"/>,\n",
       " <img src=\"//wx4.sinaimg.cn/mw600/6c560b83ly1fkq5maotv4j20u01hc1ij.jpg\"/>,\n",
       " <img onload=\"add_img_loading_mask(this, load_sina_gif);\" org_src=\"//wx1.sinaimg.cn/mw690/90dad067gy1fkpmcojp2fg20a005nnpd.gif\" src=\"//wx1.sinaimg.cn/thumb180/90dad067gy1fkpmcojp2fg20a005nnpd.gif\"/>,\n",
       " <img onload=\"add_img_loading_mask(this, load_sina_gif);\" org_src=\"//wx2.sinaimg.cn/mw690/90dad067gy1fkpmcpp9lsg20a005nx6p.gif\" src=\"//wx2.sinaimg.cn/thumb180/90dad067gy1fkpmcpp9lsg20a005nx6p.gif\"/>,\n",
       " <img onload=\"add_img_loading_mask(this, load_sina_gif);\" org_src=\"//wx4.sinaimg.cn/mw690/90dad067gy1fkpmcnfts5g20a005nu0x.gif\" src=\"//wx4.sinaimg.cn/thumb180/90dad067gy1fkpmcnfts5g20a005nu0x.gif\"/>,\n",
       " <img onload=\"add_img_loading_mask(this, load_sina_gif);\" org_src=\"//wx2.sinaimg.cn/mw690/90dad067gy1fkpmcs2223g20a005n1ky.gif\" src=\"//wx2.sinaimg.cn/thumb180/90dad067gy1fkpmcs2223g20a005n1ky.gif\"/>,\n",
       " <img onload=\"add_img_loading_mask(this, load_sina_gif);\" org_src=\"//wx4.sinaimg.cn/mw690/90dad067gy1fkpmct8efrg20a005nkjl.gif\" src=\"//wx4.sinaimg.cn/thumb180/90dad067gy1fkpmct8efrg20a005nkjl.gif\"/>,\n",
       " <img onload=\"add_img_loading_mask(this, load_sina_gif);\" org_src=\"//wx2.sinaimg.cn/mw690/90dad067gy1fkpmcv0sxsg20a005nu0x.gif\" src=\"//wx2.sinaimg.cn/thumb180/90dad067gy1fkpmcv0sxsg20a005nu0x.gif\"/>,\n",
       " <img onload=\"add_img_loading_mask(this, load_sina_gif);\" org_src=\"//wx3.sinaimg.cn/mw690/90dad067gy1fkpmcxcj6qg20a005nnpd.gif\" src=\"//wx3.sinaimg.cn/thumb180/90dad067gy1fkpmcxcj6qg20a005nnpd.gif\"/>,\n",
       " <img onload=\"add_img_loading_mask(this, load_sina_gif);\" org_src=\"//wx2.sinaimg.cn/mw690/90dad067gy1fkpmcxzqtjg206403zdo6.gif\" src=\"//wx2.sinaimg.cn/thumb180/90dad067gy1fkpmcxzqtjg206403zdo6.gif\"/>,\n",
       " <img onload=\"add_img_loading_mask(this, load_sina_gif);\" org_src=\"//wx4.sinaimg.cn/mw690/912579c2gy1fkq2tzpm5pg207t064kjm.gif\" src=\"//wx4.sinaimg.cn/thumb180/912579c2gy1fkq2tzpm5pg207t064kjm.gif\"/>,\n",
       " <img onload=\"add_img_loading_mask(this, load_sina_gif);\" org_src=\"//wx3.sinaimg.cn/mw690/912579c2gy1fkq2u576sfg20800647wi.gif\" src=\"//wx3.sinaimg.cn/thumb180/912579c2gy1fkq2u576sfg20800647wi.gif\"/>,\n",
       " <img onload=\"add_img_loading_mask(this, load_sina_gif);\" org_src=\"//wx2.sinaimg.cn/mw690/ac593e95ly1fkq4kxsdxhg206t06tb29.gif\" src=\"//wx2.sinaimg.cn/thumb180/ac593e95ly1fkq4kxsdxhg206t06tb29.gif\"/>,\n",
       " <img onload=\"add_img_loading_mask(this, load_sina_gif);\" org_src=\"//wx3.sinaimg.cn/mw690/ac593e95ly1fkq4kyjw51g20au042qv5.gif\" src=\"//wx3.sinaimg.cn/thumb180/ac593e95ly1fkq4kyjw51g20au042qv5.gif\"/>,\n",
       " <img onload=\"add_img_loading_mask(this, load_sina_gif);\" org_src=\"//wx4.sinaimg.cn/mw690/ac593e95ly1fkq4kz8ansg206t06tnpd.gif\" src=\"//wx4.sinaimg.cn/thumb180/ac593e95ly1fkq4kz8ansg206t06tnpd.gif\"/>,\n",
       " <img src=\"//wx3.sinaimg.cn/mw600/912579c2gy1fkq4qb7g3ij20gi0gkwfy.jpg\"/>,\n",
       " <img onload=\"add_img_loading_mask(this, load_sina_gif);\" org_src=\"//wx3.sinaimg.cn/mw690/7f7d6a25gy1fkplupqblag20c806vh7c.gif\" src=\"//wx3.sinaimg.cn/thumb180/7f7d6a25gy1fkplupqblag20c806vh7c.gif\"/>,\n",
       " <img src=\"//wx3.sinaimg.cn/mw600/61e4cc75ly1fkq30vby86j21jk1crx6q.jpg\"/>,\n",
       " <img src=\"//wx3.sinaimg.cn/mw600/61e4cc75ly1fkq30tr5f1j20sg0t37vy.jpg\"/>,\n",
       " <img onload=\"add_img_loading_mask(this, load_sina_gif);\" org_src=\"//wx1.sinaimg.cn/mw690/61e4cc75ly1fkq2ydbubqg20dc07ib2n.gif\" src=\"//wx1.sinaimg.cn/thumb180/61e4cc75ly1fkq2ydbubqg20dc07ib2n.gif\"/>,\n",
       " <img onload=\"add_img_loading_mask(this, load_sina_gif);\" org_src=\"//wx4.sinaimg.cn/mw690/61e4cc75ly1fkq2y6m4ntg20dc07i4r6.gif\" src=\"//wx4.sinaimg.cn/thumb180/61e4cc75ly1fkq2y6m4ntg20dc07i4r6.gif\"/>,\n",
       " <img border=\"0\" height=\"75\" src=\"//cdn.jandan.net/static/gg/66rpg.jpg\" width=\"300\"/>,\n",
       " <img border=\"0\" height=\"75\" src=\"//cdn.jandan.net/static/gg/zigeer4.png\" width=\"300\"/>]"
      ]
     },
     "execution_count": 83,
     "metadata": {},
     "output_type": "execute_result"
    }
   ],
   "source": [
    "url='https://jandan.net/pic/'\n",
    "html=download(url)\n",
    "soup=BeautifulSoup(html,'html')\n",
    "soup.find_all('img')"
   ]
  },
  {
   "cell_type": "code",
   "execution_count": 90,
   "metadata": {},
   "outputs": [],
   "source": [
    "import csv\n",
    "file=open('countries.csv','w')\n",
    "writer=csv.writer(file)\n",
    "fields=('area','pupulation','iso','country','captial')\n",
    "writer.writerow(fields)\n",
    "file.close()"
   ]
  }
 ],
 "metadata": {
  "kernelspec": {
   "display_name": "Python 2",
   "language": "python",
   "name": "python2"
  },
  "language_info": {
   "codemirror_mode": {
    "name": "ipython",
    "version": 2
   },
   "file_extension": ".py",
   "mimetype": "text/x-python",
   "name": "python",
   "nbconvert_exporter": "python",
   "pygments_lexer": "ipython2",
   "version": "2.7.13"
  }
 },
 "nbformat": 4,
 "nbformat_minor": 2
}
