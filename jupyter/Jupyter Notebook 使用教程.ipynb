{
 "cells": [
  {
   "cell_type": "markdown",
   "metadata": {},
   "source": [
    "### Jupyter Notebook 的使用\n",
    "\n",
    "**命令行模式**与**代码模式**   **切换**\n",
    "+ Esc   命令行模式\n",
    "+ Enter  编辑模式\n",
    "\n",
    "**Markdown**与**Code**\n",
    "+ y  code\n",
    "+ m  markdown\n",
    "\n",
    "**代码运行**\n",
    "+ Ctrl+Enter  只在当前cell运行\n",
    "+ Shift+Enter  运行并插入下一个cell\n",
    " \n",
    "**新建一个cell**\n",
    "+ b   在下方插入一个cell\n",
    "+ a   在上方插入一个cell\n",
    "\n",
    "**复制 粘贴Cell**\n",
    "* c       复制选中的cell\n",
    "* v       在下方粘贴\n",
    "* shift+v   在上方粘贴\n",
    "\n",
    "**删除Cell**\n",
    "+ x       删除选中cell\n",
    "+ dd      删除当前cell\n",
    "\n",
    "***\n",
    "### Markdown的使用\n",
    "\n",
    "###### 标题标志：\n",
    "\n",
    "一级标题\n",
    "====\n",
    "二级标题\n",
    "------\n",
    "或使用#号标志表示1-6级标题\n",
    "\n",
    "\n",
    "**粗体**   两个\\* 或  两个\\_      \n",
    "__Bold__\n",
    "\n",
    "*斜体*    单个\\* 或  单个\\_    \n",
    "_Italic_\n",
    "\n",
    "~~delete~~   两个\\~  \n",
    "\n",
    "###### 超链接\n",
    "http://www.baidu.com  <br/>\n",
    "**行内式**  [百度]（http://www.baidu.com） <br/>\n",
    "**参考式**   引用的文段[百度][1]  <br/>\n",
    "以下链接可以放到文章末尾 \n",
    "[1]:http://www.baidu.com\n",
    "\n",
    "\n",
    "###### 列表\n",
    "有序列表：   \n",
    "1. 苹果\n",
    "2. 香蕉  \n",
    "4. 菠萝  \n",
    "\n",
    "例外： \n",
    "1989/. 不采用列表的格式原样打印出。\n",
    "\n",
    "无序列表：  +-\\*    \n",
    "* aaa\n",
    "* bbb\n",
    "* ccc\n",
    "\n",
    "###### 引用\n",
    ">这是一级引用\n",
    ">>这是二级引用\n",
    ">>>这是三级引用\n",
    "\n",
    "###### 表格\n",
    "|姓名|性别|年龄|\n",
    "|-|-|-|\n",
    "|nar|M|66|\n",
    "> 当然也可以使用HTML中的表格语言来组成表格。\n",
    "\n",
    "\n",
    "***\n",
    "#### Jupyter的各种快捷键\n",
    "\n",
    "执行当前cell，并自动跳到下一个cell：Shift Enter\n",
    "\n",
    "执行当前cell，执行后不自动调转到下一个cell：Ctrl-Enter\n",
    "\n",
    "是当前的cell进入编辑模式：Enter\n",
    "\n",
    "退出当前cell的编辑模式：Esc\n",
    "\n",
    "删除当前的cell：双D\n",
    "\n",
    "为当前的cell加入line number：单L\n",
    "\n",
    "将当前的cell转化为具有一级标题的maskdown：单1\n",
    "\n",
    "将当前的cell转化为具有二级标题的maskdown：单2\n",
    "\n",
    "将当前的cell转化为具有三级标题的maskdown：单3\n",
    "\n",
    "为一行或者多行添加/取消注释：Crtl /\n",
    "\n",
    "撤销对某个cell的删除：z\n",
    "\n",
    "浏览器的各个Tab之间切换：Crtl PgUp和Crtl PgDn\n",
    "\n",
    "快速跳转到首个cell：Crtl Home\n",
    "\n",
    "快速跳转到最后一个cell：Crtl End\n",
    "\n",
    "### 将本地的.py文件load到jupyter的一个cell中\n",
    "\n",
    "%load test.py  #test.py是当前路径下的一个python文件\n",
    "\n",
    "### Jupyter运行python文件\n",
    "\n",
    "%run file.py\n",
    "\n",
    "\n",
    "\n",
    "***\n",
    "**HTML语言的使用**\n",
    "\n",
    "Lovely Kid\n",
    "<img src=\"kid.jpg\">"
   ]
  },
  {
   "cell_type": "markdown",
   "metadata": {},
   "source": [
    "**尝试在Markdown模式下使用LaTeX输入公式：**  \n",
    "使用$将公式包起来，  \n",
    "当使用:  \n",
    "\n",
    "* 单个$号时，公式居左   \n",
    "\n",
    "* 两个$号时，公式居中"
   ]
  },
  {
   "cell_type": "markdown",
   "metadata": {},
   "source": [
    "Use $$ if you want your math to appear in a single line, e.g.,    **想让公式单独占一行**\n",
    "\n",
    "$$a = b + c$$ (line break after the equation)\n",
    "\n",
    "If you don't need a line break after the math, use single dollar sign $, e.g.,  **想让公式插入到某一行中**\n",
    "\n",
    "$a = b + c$   (no line break after the equation)"
   ]
  },
  {
   "cell_type": "markdown",
   "metadata": {},
   "source": [
    "$$x^2$$\n",
    "$$E=mc^2 \\\n",
    "y_1=x_1+x_2^2\n",
    "$$"
   ]
  },
  {
   "cell_type": "markdown",
   "metadata": {},
   "source": [
    "$\\sqrt{3x-1}+(1+x)^2$"
   ]
  },
  {
   "cell_type": "markdown",
   "metadata": {},
   "source": [
    "$$ P(A \\mid B) = \\frac{P(B \\mid A) , P(A)}{P(B)} $$"
   ]
  },
  {
   "cell_type": "markdown",
   "metadata": {},
   "source": [
    "$$f(x_1,x_x,\\ldots,x_n) = x_1^2 + x_2^2 + \\cdots + x_n^2 $$"
   ]
  },
  {
   "cell_type": "code",
   "execution_count": 12,
   "metadata": {},
   "outputs": [
    {
     "data": {
      "text/latex": [
       "$$F(k) = \\int_{-\\infty}^{\\infty} f(x) e^{2\\pi i k} dx$$"
      ],
      "text/plain": [
       "<IPython.core.display.Math object>"
      ]
     },
     "metadata": {},
     "output_type": "display_data"
    }
   ],
   "source": [
    "from IPython.display import display, Math, Latex\n",
    "display(Math(r'F(k) = \\int_{-\\infty}^{\\infty} f(x) e^{2\\pi i k} dx'))b"
   ]
  },
  {
   "cell_type": "markdown",
   "metadata": {},
   "source": [
    "$$c = \\sqrt{a^2 + b^2}$$"
   ]
  },
  {
   "cell_type": "markdown",
   "metadata": {},
   "source": [
    "$$\\left. \\frac{du}{dx} \\right|_{x=0}.$$"
   ]
  },
  {
   "cell_type": "markdown",
   "metadata": {},
   "source": [
    "#### Magic Fuction："
   ]
  },
  {
   "cell_type": "code",
   "execution_count": 8,
   "metadata": {},
   "outputs": [
    {
     "name": "stderr",
     "output_type": "stream",
     "text": [
      "Python 2.7.10\n"
     ]
    }
   ],
   "source": [
    "!python --version"
   ]
  },
  {
   "cell_type": "code",
   "execution_count": 7,
   "metadata": {},
   "outputs": [
    {
     "name": "stdout",
     "output_type": "stream",
     "text": [
      "     Hello World     This is link1     This is link2  \n",
      "<a class=\"link\" href=\"#\">This is link1</a>\n",
      "[<a class=\"link\" href=\"#\">This is link1</a>, <a class=\"link\" href=\"# link2\">This is link2</a>]\n"
     ]
    }
   ],
   "source": [
    "!python stupid_BeautifulSoup.py"
   ]
  },
  {
   "cell_type": "code",
   "execution_count": 9,
   "metadata": {},
   "outputs": [
    {
     "name": "stdout",
     "output_type": "stream",
     "text": [
      "     Hello World     This is link1     This is link2  \n",
      "<a class=\"link\" href=\"#\">This is link1</a>\n",
      "[<a class=\"link\" href=\"#\">This is link1</a>, <a class=\"link\" href=\"# link2\">This is link2</a>]\n"
     ]
    }
   ],
   "source": [
    "%run stupid_BeautifulSoup.py"
   ]
  },
  {
   "cell_type": "code",
   "execution_count": 10,
   "metadata": {},
   "outputs": [
    {
     "name": "stdout",
     "output_type": "stream",
     "text": [
      "F:\\Jupyter Notebook\n"
     ]
    }
   ],
   "source": [
    "current_path = %pwd\n",
    "print current_path"
   ]
  },
  {
   "cell_type": "code",
   "execution_count": 11,
   "metadata": {},
   "outputs": [
    {
     "name": "stdout",
     "output_type": "stream",
     "text": [
      "     Hello World     This is link1     This is link2  \n",
      "<a class=\"link\" href=\"#\">This is link1</a>\n",
      "[<a class=\"link\" href=\"#\">This is link1</a>, <a class=\"link\" href=\"# link2\">This is link2</a>]\n"
     ]
    }
   ],
   "source": [
    "# %load stupid_BeautifulSoup.py\n",
    "from bs4 import BeautifulSoup\n",
    "html_sample = '\\\n",
    "<html> \\\n",
    "  <body> \\\n",
    "    <h1 id=\"title\">Hello World</h1> \\\n",
    "    <a href=\"#\" class=\"link\">This is link1</a> \\\n",
    "    <a href=\"# link2\" class=\"link\">This is link2</a>\\\n",
    "  <body>\\\n",
    "<html>'\n",
    "\n",
    "soup = BeautifulSoup(html_sample,\"html5lib\")\n",
    "print soup.text                     #不含tab的内容\n",
    "# print '====='\n",
    "# print soup.contents                 #全部内容\n",
    "print soup.select('a')[0]\n",
    "print soup.select('.link')            #class  :   .link\n",
    "# print soup.select('#title')           #id :   #title\n",
    "# print \"\"\n"
   ]
  },
  {
   "cell_type": "markdown",
   "metadata": {
    "collapsed": true
   },
   "source": []
  }
 ],
 "metadata": {
  "kernelspec": {
   "display_name": "Python 2",
   "language": "python",
   "name": "python2"
  },
  "language_info": {
   "codemirror_mode": {
    "name": "ipython",
    "version": 2
   },
   "file_extension": ".py",
   "mimetype": "text/x-python",
   "name": "python",
   "nbconvert_exporter": "python",
   "pygments_lexer": "ipython2",
   "version": "2.7.13"
  }
 },
 "nbformat": 4,
 "nbformat_minor": 2
}
