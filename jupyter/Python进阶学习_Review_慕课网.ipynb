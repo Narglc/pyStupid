{
 "cells": [
  {
   "cell_type": "markdown",
   "metadata": {},
   "source": [
    "## 高阶函数"
   ]
  },
  {
   "cell_type": "code",
   "execution_count": 1,
   "metadata": {},
   "outputs": [
    {
     "data": {
      "text/plain": [
       "8"
      ]
     },
     "execution_count": 1,
     "metadata": {},
     "output_type": "execute_result"
    }
   ],
   "source": [
    "def add(x,y,f):\n",
    "    return f(x)+f(y)\n",
    "\n",
    "add(2,-6,abs)"
   ]
  },
  {
   "cell_type": "code",
   "execution_count": 8,
   "metadata": {},
   "outputs": [
    {
     "data": {
      "text/plain": [
       "5.0"
      ]
     },
     "execution_count": 8,
     "metadata": {},
     "output_type": "execute_result"
    }
   ],
   "source": [
    "#import math\n",
    "from math import sqrt\n",
    "def add(x,y,f):\n",
    "    return f(x)+f(y)\n",
    "\n",
    "add(4,9,sqrt)"
   ]
  },
  {
   "cell_type": "markdown",
   "metadata": {},
   "source": [
    "## map()函数"
   ]
  },
  {
   "cell_type": "code",
   "execution_count": 17,
   "metadata": {},
   "outputs": [
    {
     "name": "stdout",
     "output_type": "stream",
     "text": [
      "[3, 23, 7, 9]\n",
      "[(5, 1), (7, 32), (9, 729)]\n",
      "[1, 4, 9, 16, 25, 36, 49, 64, 81]\n",
      "['Adam', 'Lisa', 'Bart']\n"
     ]
    }
   ],
   "source": [
    "print map(abs,[-3,23,-7,-9])\n",
    "print map(lambda x,y:(x+y,x**y),[1,2,3],[4,5,6])\n",
    "print map(lambda x:x**2,range(1,10))\n",
    "# map函数可以处理包含任意类型的list，只要传入的函数f可以处理这种数据类型\n",
    "print map(lambda str:str.capitalize(),['adam','LISA','barT'])"
   ]
  },
  {
   "cell_type": "code",
   "execution_count": 16,
   "metadata": {},
   "outputs": [
    {
     "name": "stdout",
     "output_type": "stream",
     "text": [
      "[1, 2, 3, 4, 5, 6, 7, 8, 9]\n",
      "8\n",
      "Narglc\n"
     ]
    }
   ],
   "source": [
    "#小细节，小函数\n",
    "print range(1,10)\n",
    "print 2**3\n",
    "str='narglc'\n",
    "print str.capitalize()"
   ]
  },
  {
   "cell_type": "markdown",
   "metadata": {},
   "source": [
    "## reduce() 函数\n",
    "f函数必须处理两个元素，对list中的元素连续使用f函数"
   ]
  },
  {
   "cell_type": "code",
   "execution_count": 19,
   "metadata": {},
   "outputs": [
    {
     "name": "stdout",
     "output_type": "stream",
     "text": [
      "45\n"
     ]
    }
   ],
   "source": [
    "#求list中所有数的总和\n",
    "def f(x,y):\n",
    "    return x+y\n",
    "print reduce(f,range(1,10))"
   ]
  },
  {
   "cell_type": "code",
   "execution_count": 20,
   "metadata": {},
   "outputs": [
    {
     "name": "stdout",
     "output_type": "stream",
     "text": [
      "945\n"
     ]
    }
   ],
   "source": [
    "print reduce(lambda x,y:x*y,[1,3,5,7,9])"
   ]
  },
  {
   "cell_type": "code",
   "execution_count": 21,
   "metadata": {},
   "outputs": [
    {
     "name": "stdout",
     "output_type": "stream",
     "text": [
      "94500\n"
     ]
    }
   ],
   "source": [
    "#把初始值设为100\n",
    "print reduce(lambda x,y:x*y,[1,3,5,7,9],100)"
   ]
  },
  {
   "cell_type": "markdown",
   "metadata": {},
   "source": [
    "## fliter() 函数\n",
    "用法同上面两种函数，但f函数对list中的每个元素做判断，返回为True时，则留下，否则，删除，最后返回留下的元素组成的list"
   ]
  },
  {
   "cell_type": "code",
   "execution_count": 23,
   "metadata": {},
   "outputs": [
    {
     "name": "stdout",
     "output_type": "stream",
     "text": [
      "[1, 7, 9, 17]\n"
     ]
    }
   ],
   "source": [
    "# 筛选出list中所有奇数\n",
    "print filter(lambda x:x%2==1,[1,4,6,7,9,12,17])"
   ]
  },
  {
   "cell_type": "markdown",
   "metadata": {},
   "source": [
    "#### 删除_None_或_空字符串_"
   ]
  },
  {
   "cell_type": "code",
   "execution_count": 24,
   "metadata": {},
   "outputs": [
    {
     "data": {
      "text/plain": [
       "['test', 'str', 'END']"
      ]
     },
     "execution_count": 24,
     "metadata": {},
     "output_type": "execute_result"
    }
   ],
   "source": [
    "# 可以实现很多有用的功能\n",
    "# 删除None 或 空字符串\n",
    "def is_not_empty(s):\n",
    "    return s and len(s.strip())>0\n",
    "filter(is_not_empty,['test',None,'','str','   ','END'])"
   ]
  },
  {
   "cell_type": "code",
   "execution_count": null,
   "metadata": {
    "collapsed": true
   },
   "outputs": [],
   "source": [
    "import math\n",
    "print filter(lambda x:math.sqrt(x))"
   ]
  }
 ],
 "metadata": {
  "kernelspec": {
   "display_name": "Python 2",
   "language": "python",
   "name": "python2"
  },
  "language_info": {
   "codemirror_mode": {
    "name": "ipython",
    "version": 2
   },
   "file_extension": ".py",
   "mimetype": "text/x-python",
   "name": "python",
   "nbconvert_exporter": "python",
   "pygments_lexer": "ipython2",
   "version": "2.7.13"
  }
 },
 "nbformat": 4,
 "nbformat_minor": 2
}
